{
  "cells": [
    {
      "cell_type": "markdown",
      "metadata": {
        "id": "view-in-github",
        "colab_type": "text"
      },
      "source": [
        "<a href=\"https://colab.research.google.com/github/th0void/KurtNab-Assessment/blob/main/stocks_daily_return.ipynb\" target=\"_parent\"><img src=\"https://colab.research.google.com/assets/colab-badge.svg\" alt=\"Open In Colab\"/></a>"
      ]
    },
    {
      "cell_type": "markdown",
      "id": "b5ae41e0",
      "metadata": {
        "id": "b5ae41e0"
      },
      "source": [
        "# Daily Return of Stock Data\n",
        "\n",
        "## Daily Return formula\n",
        "\n",
        "Visiting a financial website that provides stock price information. Type a company’s name or its stock’s ticker symbol.  We will use the utility *curl* to download the data, but we need a URL.  To find the URL, navigate to Yahoo finance, type in NAB.AX, click the 'Historical' tab.  towards the right is a download option.  right click on the download link and select 'Copy Link Address' form the popup menu.  No paste to the URL assignment statement.\n",
        "\n",
        "Find in the historical prices section the stock’s closing price for any two consecutive days. For example, assume a stock’s closing price was \\$36.75 yesterday and that its closing price was \\$35.50 the previous day. Subtract the previous day’s closing price from the most recent day’s closing price. In this example, subtract \\$35.50 from \\$36.75 to get \\$1.25.\n",
        "\n",
        "Now divide the results by the previous day's closing prices to calculate the daily return.  Multiply this by 100 to convert to a percentage.  So $1.25 divided by #35.50 equals 0.035.  Multiply 0.035 by 100 to 3.5 percent.\n",
        "\n",
        "    Daily return = (Today prices - Yesterday price) / Yesterday price\n",
        "\n",
        "We will look at three different methods in Python to process the file:\n",
        "* Use read() and readline() functions\n",
        "* Use CSV module\n",
        "* Use Pandas\n"
      ]
    },
    {
      "cell_type": "code",
      "execution_count": null,
      "id": "1e11a5be",
      "metadata": {
        "id": "1e11a5be"
      },
      "outputs": [],
      "source": []
    },
    {
      "cell_type": "markdown",
      "id": "e63f358d",
      "metadata": {
        "id": "e63f358d"
      },
      "source": [
        "## Read CSV file"
      ]
    },
    {
      "cell_type": "code",
      "source": [
        "import urllib.request\n",
        "\n",
        "# Download the CSV file from the URL\n",
        "url = \"https://query1.finance.yahoo.com/v7/finance/download/NAB.AX?period1=1682264564&period2=1713886964&interval=1d&events=history&includeAdjustedClose=true\"\n",
        "urllib.request.urlretrieve(url, \"historical_data.csv\")\n",
        "\n",
        "# Open the downloaded CSV file\n",
        "with open('historical_data.csv', 'r') as file:\n",
        "    # Skip the header row\n",
        "    file.readline()\n",
        "    # Read the first two lines to get closing prices for two consecutive days\n",
        "    yesterday_line = file.readline().strip().split(',')\n",
        "    today_line = file.readline().strip().split(',')\n",
        "    # Extract closing prices\n",
        "    yesterday_price = float(yesterday_line[4])\n",
        "    today_price = float(today_line[4])\n",
        "    # Calculate daily return\n",
        "    daily_return = ((today_price - yesterday_price) / yesterday_price) * 100\n",
        "    print(\"Daily return: {:.2f}%\".format(daily_return))\n"
      ],
      "metadata": {
        "id": "Se2cqNg3M5em",
        "outputId": "3d59a227-4645-4659-a2a6-11389e624bc4",
        "colab": {
          "base_uri": "https://localhost:8080/"
        }
      },
      "id": "Se2cqNg3M5em",
      "execution_count": 5,
      "outputs": [
        {
          "output_type": "stream",
          "name": "stdout",
          "text": [
            "Daily return: 0.17%\n"
          ]
        }
      ]
    },
    {
      "cell_type": "markdown",
      "id": "6d1de788",
      "metadata": {
        "id": "6d1de788"
      },
      "source": [
        "## Module: CSV"
      ]
    },
    {
      "cell_type": "code",
      "source": [
        "import csv\n",
        "import urllib.request\n",
        "\n",
        "# Download the CSV file from the URL\n",
        "url = \"https://query1.finance.yahoo.com/v7/finance/download/NAB.AX?period1=1682264564&period2=1713886964&interval=1d&events=history&includeAdjustedClose=true\"\n",
        "urllib.request.urlretrieve(url, \"historical_data.csv\")\n",
        "\n",
        "# Open the downloaded CSV file\n",
        "with open('historical_data.csv', 'r') as file:\n",
        "    # Create a CSV reader object\n",
        "    reader = csv.reader(file)\n",
        "    # Skip the header row\n",
        "    next(reader)\n",
        "    # Read the first two rows to get closing prices for two consecutive days\n",
        "    yesterday_row = next(reader)\n",
        "    today_row = next(reader)\n",
        "    # Extract closing prices\n",
        "    yesterday_price = float(yesterday_row[4])\n",
        "    today_price = float(today_row[4])\n",
        "    # Calculate daily return\n",
        "    daily_return = ((today_price - yesterday_price) / yesterday_price) * 100\n",
        "    print(\"Daily return: {:.2f}%\".format(daily_return))\n"
      ],
      "metadata": {
        "id": "L5SSHtv9M2Aa",
        "outputId": "fdd8ccff-286a-4c2b-8449-5da27c07f31d",
        "colab": {
          "base_uri": "https://localhost:8080/"
        }
      },
      "id": "L5SSHtv9M2Aa",
      "execution_count": 7,
      "outputs": [
        {
          "output_type": "stream",
          "name": "stdout",
          "text": [
            "Daily return: 0.17%\n"
          ]
        }
      ]
    },
    {
      "cell_type": "markdown",
      "id": "1af66a5b",
      "metadata": {
        "id": "1af66a5b"
      },
      "source": [
        "## Module: Pandas"
      ]
    },
    {
      "cell_type": "code",
      "source": [
        "import pandas as pd\n",
        "\n",
        "# Read the downloaded CSV file into a DataFrame\n",
        "url = \"https://query1.finance.yahoo.com/v7/finance/download/NAB.AX?period1=1682264564&period2=1713886964&interval=1d&events=history&includeAdjustedClose=true\"\n",
        "df = pd.read_csv(url)\n",
        "# Display the first few rows of the DataFrame\n",
        "print(df.head())\n",
        "# Extract closing prices for two consecutive days\n",
        "yesterday_price = df.iloc[-2]['Close']\n",
        "today_price = df.iloc[-1]['Close']\n",
        "# Calculate daily return\n",
        "daily_return = ((today_price - yesterday_price) / yesterday_price) * 100\n",
        "print(\"Daily return: {:.2f}%\".format(daily_return))\n"
      ],
      "metadata": {
        "id": "FaEb0XBpMFSk",
        "outputId": "b472fafd-e10d-4498-b2cb-de928d1f0445",
        "colab": {
          "base_uri": "https://localhost:8080/"
        }
      },
      "id": "FaEb0XBpMFSk",
      "execution_count": 6,
      "outputs": [
        {
          "output_type": "stream",
          "name": "stdout",
          "text": [
            "         Date       Open       High        Low      Close  Adj Close   Volume\n",
            "0  2023-04-24  29.000000  29.010000  28.790001  28.790001  27.105204  2136668\n",
            "1  2023-04-26  28.730000  28.959999  28.580000  28.840000  27.152277  4706622\n",
            "2  2023-04-27  28.790001  28.790001  28.410000  28.730000  27.048712  3674182\n",
            "3  2023-04-28  28.980000  29.100000  28.750000  28.840000  27.152277  5463855\n",
            "4  2023-05-01  29.100000  29.230000  28.879999  29.190001  27.481794  3566160\n",
            "Daily return: 0.00%\n"
          ]
        }
      ]
    },
    {
      "cell_type": "code",
      "source": [],
      "metadata": {
        "id": "vq6PUcaCNGIm"
      },
      "id": "vq6PUcaCNGIm",
      "execution_count": null,
      "outputs": []
    }
  ],
  "metadata": {
    "kernelspec": {
      "display_name": "Python 3 (ipykernel)",
      "language": "python",
      "name": "python3"
    },
    "language_info": {
      "codemirror_mode": {
        "name": "ipython",
        "version": 3
      },
      "file_extension": ".py",
      "mimetype": "text/x-python",
      "name": "python",
      "nbconvert_exporter": "python",
      "pygments_lexer": "ipython3",
      "version": "3.9.6"
    },
    "colab": {
      "name": "stocks_daily_return.ipynb",
      "provenance": [],
      "include_colab_link": true
    }
  },
  "nbformat": 4,
  "nbformat_minor": 5
}