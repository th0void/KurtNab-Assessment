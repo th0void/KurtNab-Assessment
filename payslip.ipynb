{
  "cells": [
    {
      "cell_type": "markdown",
      "metadata": {
        "id": "view-in-github",
        "colab_type": "text"
      },
      "source": [
        "<a href=\"https://colab.research.google.com/github/th0void/KurtNab-Assessment/blob/main/payslip.ipynb\" target=\"_parent\"><img src=\"https://colab.research.google.com/assets/colab-badge.svg\" alt=\"Open In Colab\"/></a>"
      ]
    },
    {
      "cell_type": "markdown",
      "metadata": {
        "id": "kF8ldRydTDPx"
      },
      "source": [
        "# Payslip\n",
        "\n",
        "A payslip is a document that shows their total wages earned for a set period.\n",
        "This might be from a salary, hourly wages or commission. Payslips are also know as\n",
        "‘pay advice’.  Traditionally the payslip was a paper document attached. Today\n",
        "most organisations provide them electronically.\n",
        "\n",
        "## Task 0 - Import into GitHub\n",
        "First, import the notebook into Colab and save an initial copy to GitHub.\n",
        "\n",
        "## Task 1 - Start Simple\n",
        "\n",
        "Writing complete robust programs can take time.  Often the more we understand a\n",
        "problem the easier it is to implement the solution.   One approach is to\n",
        "implement the simplest version of a program and then slowly add functionality.\n",
        "\n",
        "The aim of this notebook is to start simple and slowly build up the program.\n",
        "The approach we take below is one way to understand a problem, step 1 of our\n",
        "development process. For complex projects, they often follow a similar idea\n",
        "where they implement a minimal program, and each week or month have intense\n",
        "periods were the team adds functionality.  These advanced methodologies are\n",
        "beyond the scope of an introductory programming course but start small and\n",
        "slowly add functionality we do capture the essence of the process.\n",
        "\n",
        "\n",
        "### The Initial (minimal) Program\n",
        "\n",
        "Consider 'Ram' who has a salary of \\$25000.  They have sold goods worth $20000\n",
        "and earns 2% commission on the sales. They fall into the 10% tax bracket. We\n",
        "will talk about tax-brackets in another notebook. Before making payments the\n",
        "organisation needs to deduct 10% tax.\n",
        "\n",
        "We need to program to print out a payslip for sales people.  Our payslip\n",
        "is very simple, we need a title, the amount of salary, the amount of commission,\n",
        "the amount of tax, and the total pay.\n",
        "\n",
        "Run the following program for one person."
      ]
    },
    {
      "cell_type": "code",
      "execution_count": 1,
      "metadata": {
        "colab": {
          "base_uri": "https://localhost:8080/"
        },
        "id": "2UenEHfcTuLz",
        "outputId": "5cba53a3-0b61-4b95-ba45-1839b9144bf7"
      },
      "outputs": [
        {
          "output_type": "stream",
          "name": "stdout",
          "text": [
            "Payslip of Ram\n",
            "Salary 25000 Commission 400.0 Tax 2540.0\n",
            "Total pay 22860.0\n"
          ]
        }
      ],
      "source": [
        "salary = 25000\n",
        "sales = 20000\n",
        "commission = 0.02 * sales\n",
        "tax = (salary + commission) * 0.10\n",
        "pay = salary + commission - tax\n",
        "print('Payslip of Ram')\n",
        "print('Salary', salary,'Commission',commission,'Tax', tax)\n",
        "print('Total pay',pay)"
      ]
    },
    {
      "cell_type": "markdown",
      "metadata": {
        "id": "QzcJGzRBUDz2"
      },
      "source": [
        "Now, consider 'Radha' who has a salary of \\$30000.  They have sold goods worth $40000 and earns 2.5% commision on the sales. They fall into the 10% tax bracket and so before making payments we need to deduct 10% form his total payout."
      ]
    },
    {
      "cell_type": "code",
      "execution_count": 2,
      "metadata": {
        "id": "wFmuD9ujUgDW",
        "outputId": "7aac5fa5-6400-46a9-f923-21e6fc87938e",
        "colab": {
          "base_uri": "https://localhost:8080/"
        }
      },
      "outputs": [
        {
          "output_type": "stream",
          "name": "stdout",
          "text": [
            "Payslip of Radha\n",
            "Salary 30000 Commission 400.0 Tax 3040.0\n",
            "Total pay 27360.0\n"
          ]
        }
      ],
      "source": [
        "salary = 30000\n",
        "sales = 40000\n",
        "commision = 0.025 * sales\n",
        "tax = (salary + commission) * 0.10\n",
        "pay = salary + commission - tax\n",
        "print('Payslip of Radha')\n",
        "print('Salary', salary, 'Commission', commission, 'Tax', tax)\n",
        "print('Total pay', pay)"
      ]
    },
    {
      "cell_type": "markdown",
      "metadata": {
        "id": "UFGObxq7UlvE"
      },
      "source": [
        "## Task 2 - Generalise\n",
        "\n",
        "What did we change from Ram to Radha?"
      ]
    },
    {
      "cell_type": "markdown",
      "source": [
        "Salary: For Ram it was $25000, while for Radha it is $30000.\n",
        "Sales: For Ram it was $20000, while Radha's sales amount is $40000.\n",
        "Commission Rate: Ram earns 2% commission while Radha earns 2.5% commission on sales.\n",
        "The overall calculations for commission,tax and pay are adjusted and Radha's salary is $27360 while Ram's total salary is $22860."
      ],
      "metadata": {
        "id": "dhNmyeBpTWMb"
      }
    },
    {
      "cell_type": "markdown",
      "metadata": {
        "id": "7PrlmDmYV6iX"
      },
      "source": [
        "Make what we changed as inputs (parameters) to a function"
      ]
    },
    {
      "cell_type": "code",
      "execution_count": 9,
      "metadata": {
        "id": "cJwgf8nZWDF6"
      },
      "outputs": [],
      "source": [
        "def generate_payslip(name, salary, sales, commission_rate):\n",
        "  commission = commission_rate * sales\n",
        "  tax = (salary + commission) * 0.10\n",
        "  total_pay = salary + commission - tax\n",
        "  print('Payslip of', name)\n",
        "  print('Salary:', salary)\n",
        "  print('Commission:', commission)\n",
        "  print('Tax:', tax)\n",
        "  print('Total pay:', total_pay)\n",
        "\n",
        "  #Ram's information\n",
        "  name_ram = 'Ram'\n",
        "  salary_ram = 25000\n",
        "  sales_ram = 20000\n",
        "  commission_rate_ram = 0.02\n",
        "  generate_payslip(name_ram, salary_ram, commission_rate_ram)\n",
        "\n",
        "  #Radha's information\n",
        "  name_radha = 'Radha'\n",
        "  salary_radha = 30000\n",
        "  sales_radha = 40000\n",
        "  commission_rate_radha = 0.025\n",
        "  generate_payslip(name_radha, salary_radha, sales_radha, commission_rate_radha)\n",
        "\n"
      ]
    }
  ],
  "metadata": {
    "colab": {
      "name": "payslip.ipynb",
      "provenance": [],
      "include_colab_link": true
    },
    "kernelspec": {
      "display_name": "Python 3",
      "name": "python3"
    },
    "language_info": {
      "name": "python"
    }
  },
  "nbformat": 4,
  "nbformat_minor": 0
}