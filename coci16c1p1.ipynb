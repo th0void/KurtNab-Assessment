{
  "nbformat": 4,
  "nbformat_minor": 0,
  "metadata": {
    "colab": {
      "provenance": [],
      "authorship_tag": "ABX9TyO4fDFJ8eLVkp45VwTSSqyR",
      "include_colab_link": true
    },
    "kernelspec": {
      "name": "python3",
      "display_name": "Python 3"
    },
    "language_info": {
      "name": "python"
    }
  },
  "cells": [
    {
      "cell_type": "markdown",
      "metadata": {
        "id": "view-in-github",
        "colab_type": "text"
      },
      "source": [
        "<a href=\"https://colab.research.google.com/github/th0void/KurtNab-Assessment/blob/main/coci16c1p1.ipynb\" target=\"_parent\"><img src=\"https://colab.research.google.com/assets/colab-badge.svg\" alt=\"Open In Colab\"/></a>"
      ]
    },
    {
      "cell_type": "code",
      "execution_count": null,
      "metadata": {
        "id": "fxi4yJwIAAxm"
      },
      "outputs": [],
      "source": [
        "# Read inputs\n",
        "X = int(input())  # The total megabytes Pero can use per month\n",
        "N = int(input())  # The number of months\n",
        "spent = [int(input()) for _ in range(N)]  # The megabytes spent in each of the first N months\n",
        "\n",
        "# Calculate total megabytes Pero will have available in the N+1th month\n",
        "total = X * (N + 1) - sum(spent)\n",
        "\n",
        "# Output result\n",
        "print(total)\n"
      ]
    }
  ]
}