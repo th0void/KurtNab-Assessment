{
  "nbformat": 4,
  "nbformat_minor": 0,
  "metadata": {
    "colab": {
      "name": "sale_price.ipynb",
      "provenance": [],
      "include_colab_link": true
    },
    "kernelspec": {
      "name": "python3",
      "display_name": "Python 3"
    },
    "language_info": {
      "name": "python"
    }
  },
  "cells": [
    {
      "cell_type": "markdown",
      "metadata": {
        "id": "view-in-github",
        "colab_type": "text"
      },
      "source": [
        "<a href=\"https://colab.research.google.com/github/th0void/KurtNab-Assessment/blob/main/sale_price.ipynb\" target=\"_parent\"><img src=\"https://colab.research.google.com/assets/colab-badge.svg\" alt=\"Open In Colab\"/></a>"
      ]
    },
    {
      "cell_type": "markdown",
      "metadata": {
        "id": "cgTeiXOtSPjH"
      },
      "source": [
        "# Sales Price\n",
        "\n",
        "A local department store needs to develop a program that will computer the total price (including goods and services tax) of the item on sale when given an item's original price and discount percentage.\n",
        "\n",
        "## Tasks\n",
        "* Save to Github\n",
        "* Design Algorithm\n",
        "* Write and test the program in Python"
      ]
    },
    {
      "cell_type": "code",
      "metadata": {
        "id": "pPIN2ZcrSqdw",
        "colab": {
          "base_uri": "https://localhost:8080/",
          "height": 106
        },
        "outputId": "095d1219-6a5d-47a7-96b3-4bd928726b08"
      },
      "source": [
        "def calculate_total_price(original_price, discount_percentage, gst_percentage):\n",
        "  #Calculate the discount amount\n",
        "  discount_amount = original price * (discount_percentage / 100)\n",
        "  #Calculate the discounted price\n",
        "  discounted_price = original_price - discount_amount\n",
        "  #Calculate the GST amount\n",
        "  gst_amount = discounted_price * (gst_percentage / 100)\n",
        "  #Calculate the total price including GST\n",
        "  total_price = discounted_price + gst_amount\n",
        "  return total_price\n",
        "\n",
        "\n",
        "  #The Main Program\n",
        "  if __name__ == \"__main__\":\n",
        "    #input from the user\n",
        "    original_price = float(input(\"original price:$\"))\n",
        "    discount_percentage = float(input(\"discount percentage:\"))\n",
        "    gst_percentage = float(input(\"GST percentage:\"))\n",
        "    #Calculate the total price\n",
        "    total_price = calculate_total_price(original_price, discount_percentage, gst_percentage)\n",
        "    #output the result\n",
        "    print(\"The total price including GST is: ${:}\".formate(total_price))"
      ],
      "execution_count": 2,
      "outputs": [
        {
          "output_type": "error",
          "ename": "SyntaxError",
          "evalue": "invalid syntax (<ipython-input-2-51827bd24f44>, line 3)",
          "traceback": [
            "\u001b[0;36m  File \u001b[0;32m\"<ipython-input-2-51827bd24f44>\"\u001b[0;36m, line \u001b[0;32m3\u001b[0m\n\u001b[0;31m    discount_amount = original price * (discount_percentage / 100)\u001b[0m\n\u001b[0m                               ^\u001b[0m\n\u001b[0;31mSyntaxError\u001b[0m\u001b[0;31m:\u001b[0m invalid syntax\n"
          ]
        }
      ]
    },
    {
      "cell_type": "markdown",
      "source": [
        "Above is an example for an algorithm program for calculating the sales price."
      ],
      "metadata": {
        "id": "WZ4YuoZ74lWe"
      }
    }
  ]
}