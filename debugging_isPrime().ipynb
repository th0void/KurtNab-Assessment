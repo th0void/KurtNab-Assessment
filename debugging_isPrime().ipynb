{
  "nbformat": 4,
  "nbformat_minor": 0,
  "metadata": {
    "colab": {
      "name": "debugging_isPrime().ipynb",
      "provenance": [],
      "include_colab_link": true
    },
    "kernelspec": {
      "name": "python3",
      "display_name": "Python 3"
    },
    "language_info": {
      "name": "python"
    }
  },
  "cells": [
    {
      "cell_type": "markdown",
      "metadata": {
        "id": "view-in-github",
        "colab_type": "text"
      },
      "source": [
        "<a href=\"https://colab.research.google.com/github/th0void/KurtNab-Assessment/blob/main/debugging_isPrime().ipynb\" target=\"_parent\"><img src=\"https://colab.research.google.com/assets/colab-badge.svg\" alt=\"Open In Colab\"/></a>"
      ]
    },
    {
      "cell_type": "markdown",
      "source": [
        "## Debug isPrime()\n",
        "What is your preferred method? Do you like using print() or prefer *pdb*?   Since mistakes in programs will happen, the important part is that you have a debugging strategy, not which tool you use.\n",
        "\n",
        "Here is a function that needs debugging. Using either print() or *pdb*, debug the following function."
      ],
      "metadata": {
        "id": "LIfoDVzKX7uK"
      }
    },
    {
      "cell_type": "code",
      "source": [
        "def isPrime(candidate):\n",
        "    if candidate <= 1:\n",
        "        return False\n",
        "\n",
        "    lower = candidate - 1\n",
        "    while lower > 1:\n",
        "        print(\"Checking if {} is divisible by {}\".format(candidate, lower))\n",
        "        if candidate % lower == candidate // lower:\n",
        "            print(\"{} is divisible by {}, not a prime number.\".format(candidate, lower))\n",
        "            return False\n",
        "        lower -= 1\n",
        "\n",
        "    return True\n",
        "\n",
        "# Test the function\n",
        "print(isPrime(7))\n"
      ],
      "metadata": {
        "id": "A8PMPjb09OOT",
        "outputId": "ee3986a6-20bc-48d0-d683-eb74a63c5147",
        "colab": {
          "base_uri": "https://localhost:8080/"
        }
      },
      "execution_count": 7,
      "outputs": [
        {
          "output_type": "stream",
          "name": "stdout",
          "text": [
            "Checking if 7 is divisible by 6\n",
            "7 is divisible by 6, not a prime number.\n",
            "False\n"
          ]
        }
      ]
    }
  ]
}