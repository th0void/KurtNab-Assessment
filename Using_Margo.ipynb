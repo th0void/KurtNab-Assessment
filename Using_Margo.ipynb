{
  "nbformat": 4,
  "nbformat_minor": 0,
  "metadata": {
    "colab": {
      "provenance": [],
      "include_colab_link": true
    },
    "kernelspec": {
      "name": "python3",
      "display_name": "Python 3"
    }
  },
  "cells": [
    {
      "cell_type": "markdown",
      "metadata": {
        "id": "view-in-github",
        "colab_type": "text"
      },
      "source": [
        "<a href=\"https://colab.research.google.com/github/th0void/KurtNab-Assessment/blob/main/Using_Margo.ipynb\" target=\"_parent\"><img src=\"https://colab.research.google.com/assets/colab-badge.svg\" alt=\"Open In Colab\"/></a>"
      ]
    },
    {
      "cell_type": "markdown",
      "metadata": {
        "id": "81s-WT1R5Cxa"
      },
      "source": [
        "# Tutorial: Importing notebooks as modules with Margo margin notes\n",
        "\n",
        "This notebook demonstrates how to use [margo-loader](https://github.com/margo-notebooks/margo-loader-py) to import notebooks as code modules.\n",
        "\n",
        "Unlike other libraries, Margo Loader uses a special syntax for preprocessor directives that let you control how code is exposed in a module representation of a notebook. If you open up greetings.ipynb (once we download it), you'll see some of these directives such as `ignore-cell` and `submodule` in action."
      ]
    },
    {
      "cell_type": "markdown",
      "metadata": {
        "id": "rDCemxtI_FKd"
      },
      "source": [
        "## Set up the environment\n",
        "\n",
        "In this section we install the margo-loader dependency, import some requirements and download an example notebook [greetings.ipynb](https://github.com/margo-notebooks/margo-loader-py/blob/main/test_notebooks/greetings.ipynb) that we can use to demonstrate.\n",
        "\n"
      ]
    },
    {
      "cell_type": "code",
      "source": [
        "!python --version"
      ],
      "metadata": {
        "colab": {
          "base_uri": "https://localhost:8080/"
        },
        "id": "__S9Vht7H2sx",
        "outputId": "2d05732e-f4b6-45fc-a000-5e8feca200fb"
      },
      "execution_count": null,
      "outputs": [
        {
          "output_type": "stream",
          "name": "stdout",
          "text": [
            "Python 3.9.16\n"
          ]
        }
      ]
    },
    {
      "cell_type": "code",
      "metadata": {
        "id": "jOKykTVZ5ASU"
      },
      "source": [
        "# Install margo-loader from github repository\n",
        "# !python -m pip install git+https://github.com/margo-notebooks/margo-loader-py --use-deprecated=backtrack-on-build-failures"
      ],
      "execution_count": 1,
      "outputs": []
    },
    {
      "cell_type": "code",
      "source": [
        "!pip install margo-loader\n",
        "!python -m pip install git+https://github.com/margo-notebooks/margo-loader-py.git"
      ],
      "metadata": {
        "colab": {
          "base_uri": "https://localhost:8080/"
        },
        "id": "kezpt8gCKlKL",
        "outputId": "c5272419-60da-4782-b2fa-c70cab179cd4"
      },
      "execution_count": 3,
      "outputs": [
        {
          "output_type": "stream",
          "name": "stdout",
          "text": [
            "Collecting margo-loader\n",
            "  Using cached margo_loader-1.0.4-py3-none-any.whl (13 kB)\n",
            "Collecting margo-parser<2,>=1 (from margo-loader)\n",
            "  Using cached margo_parser-1.0.3-py3-none-any.whl (11 kB)\n",
            "Requirement already satisfied: nbformat<6,>5 in /usr/local/lib/python3.10/dist-packages (from margo-loader) (5.10.4)\n",
            "Collecting lark[regex]==1.1.5 (from margo-parser<2,>=1->margo-loader)\n",
            "  Using cached lark-1.1.5-py3-none-any.whl (107 kB)\n",
            "Collecting pyyaml==5.3.1 (from margo-parser<2,>=1->margo-loader)\n",
            "  Using cached PyYAML-5.3.1.tar.gz (269 kB)\n",
            "  \u001b[1;31merror\u001b[0m: \u001b[1msubprocess-exited-with-error\u001b[0m\n",
            "  \n",
            "  \u001b[31m×\u001b[0m \u001b[32mpython setup.py egg_info\u001b[0m did not run successfully.\n",
            "  \u001b[31m│\u001b[0m exit code: \u001b[1;36m1\u001b[0m\n",
            "  \u001b[31m╰─>\u001b[0m See above for output.\n",
            "  \n",
            "  \u001b[1;35mnote\u001b[0m: This error originates from a subprocess, and is likely not a problem with pip.\n",
            "  Preparing metadata (setup.py) ... \u001b[?25l\u001b[?25herror\n",
            "\u001b[1;31merror\u001b[0m: \u001b[1mmetadata-generation-failed\u001b[0m\n",
            "\n",
            "\u001b[31m×\u001b[0m Encountered error while generating package metadata.\n",
            "\u001b[31m╰─>\u001b[0m See above for output.\n",
            "\n",
            "\u001b[1;35mnote\u001b[0m: This is an issue with the package mentioned above, not pip.\n",
            "\u001b[1;36mhint\u001b[0m: See above for details.\n",
            "Collecting git+https://github.com/margo-notebooks/margo-loader-py.git\n",
            "  Cloning https://github.com/margo-notebooks/margo-loader-py.git to /tmp/pip-req-build-108u3i73\n",
            "  Running command git clone --filter=blob:none --quiet https://github.com/margo-notebooks/margo-loader-py.git /tmp/pip-req-build-108u3i73\n",
            "  Resolved https://github.com/margo-notebooks/margo-loader-py.git to commit d9bb4725a86af3721300389f56ff134fe3a40c2a\n",
            "  Installing build dependencies ... \u001b[?25l\u001b[?25hdone\n",
            "  Getting requirements to build wheel ... \u001b[?25l\u001b[?25hdone\n",
            "  Preparing metadata (pyproject.toml) ... \u001b[?25l\u001b[?25hdone\n",
            "Collecting margo-parser<2,>=1 (from margo-loader==1.0.4)\n",
            "  Using cached margo_parser-1.0.3-py3-none-any.whl (11 kB)\n",
            "Requirement already satisfied: nbformat<6,>5 in /usr/local/lib/python3.10/dist-packages (from margo-loader==1.0.4) (5.10.4)\n",
            "Collecting lark[regex]==1.1.5 (from margo-parser<2,>=1->margo-loader==1.0.4)\n",
            "  Using cached lark-1.1.5-py3-none-any.whl (107 kB)\n",
            "Collecting pyyaml==5.3.1 (from margo-parser<2,>=1->margo-loader==1.0.4)\n",
            "  Using cached PyYAML-5.3.1.tar.gz (269 kB)\n",
            "  \u001b[1;31merror\u001b[0m: \u001b[1msubprocess-exited-with-error\u001b[0m\n",
            "  \n",
            "  \u001b[31m×\u001b[0m \u001b[32mpython setup.py egg_info\u001b[0m did not run successfully.\n",
            "  \u001b[31m│\u001b[0m exit code: \u001b[1;36m1\u001b[0m\n",
            "  \u001b[31m╰─>\u001b[0m See above for output.\n",
            "  \n",
            "  \u001b[1;35mnote\u001b[0m: This error originates from a subprocess, and is likely not a problem with pip.\n",
            "  Preparing metadata (setup.py) ... \u001b[?25l\u001b[?25herror\n",
            "\u001b[1;31merror\u001b[0m: \u001b[1mmetadata-generation-failed\u001b[0m\n",
            "\n",
            "\u001b[31m×\u001b[0m Encountered error while generating package metadata.\n",
            "\u001b[31m╰─>\u001b[0m See above for output.\n",
            "\n",
            "\u001b[1;35mnote\u001b[0m: This is an issue with the package mentioned above, not pip.\n",
            "\u001b[1;36mhint\u001b[0m: See above for details.\n"
          ]
        }
      ]
    },
    {
      "cell_type": "code",
      "metadata": {
        "id": "wDAMQE_m6qqG"
      },
      "source": [
        "import requests"
      ],
      "execution_count": null,
      "outputs": []
    },
    {
      "cell_type": "markdown",
      "metadata": {
        "id": "npVEkFXLAJO4"
      },
      "source": [
        "## Download a sample notebook\n",
        "\n",
        "Download a local copy of [greetings.ipynb](https://github.com/margo-notebooks/margo-loader-py/blob/main/test_notebooks/greetings.ipynb) into the colab runtime so we can import it."
      ]
    },
    {
      "cell_type": "code",
      "metadata": {
        "id": "nR50AKeO5w_I"
      },
      "source": [
        "# Download a copy of a module noteboook\n",
        "def download_demo_notebook():\n",
        "  notebook_url = \"https://raw.githubusercontent.com/margo-notebooks/margo-loader-py/main/test_notebooks/greetings.ipynb\"\n",
        "  open(\"./greetings.ipynb\", \"wb\").write(requests.get(notebook_url).content)\n",
        "\n",
        "download_demo_notebook()"
      ],
      "execution_count": null,
      "outputs": []
    },
    {
      "cell_type": "markdown",
      "metadata": {
        "id": "GdfE4tGNAciJ"
      },
      "source": [
        "## Import greetings.ipynb\n",
        "\n",
        " Now that we've installed and imported `margo_loader` and we've downloaded a copy of `greetings.ipynb` somewhere that we can import it, we can use Python's built-in `import` statement to load it, just as if the notebook were a `.py` file."
      ]
    },
    {
      "cell_type": "code",
      "metadata": {
        "id": "WyrdS8A06eA6"
      },
      "source": [
        "import margo_loader\n",
        "import greetings"
      ],
      "execution_count": null,
      "outputs": []
    },
    {
      "cell_type": "markdown",
      "metadata": {
        "id": "pDEu-wADA1Xx"
      },
      "source": [
        "## Exploring the module\n",
        "\n",
        "The first cell in `greetings.ipynb` is a Markdown cell, which tells `margo_loader` to treat the cell as the documentation for the module (in Python this is stored in a special property called `__docstring__`. We can access the `__docstring__` on this or any other module by using the `help()` function."
      ]
    },
    {
      "cell_type": "code",
      "metadata": {
        "colab": {
          "base_uri": "https://localhost:8080/"
        },
        "id": "nsLFkQMLBQBX",
        "outputId": "36ba33f0-53ce-476a-bc1c-27f525435ca6"
      },
      "source": [
        "help(greetings)"
      ],
      "execution_count": null,
      "outputs": [
        {
          "output_type": "stream",
          "name": "stdout",
          "text": [
            "Help on module greetings:\n",
            "\n",
            "NAME\n",
            "    greetings - # Greetings\n",
            "\n",
            "DESCRIPTION\n",
            "    This notebook demonstrates how to use Margo to annotate a notebook to be treated as a module by Margo Loader with virtual submodules. It defines two submodules, `grumpy` and `nice`, each of which have their own `say_hello()` function.\n",
            "    \n",
            "    This Notebook demonstrates the `ignore-cell` directive and the `submodule` assignment features of Margo Loader. \n",
            "    \n",
            "    Also, everything in this cell is treated as the __docstring__ for the notebook when it is imported as a module!\n",
            "\n",
            "SUBMODULES\n",
            "    grumpy\n",
            "    nice\n",
            "\n",
            "FUNCTIONS\n",
            "    say_hello(to='world')\n",
            "\n",
            "FILE\n",
            "    /content/greetings.ipynb\n",
            "\n",
            "\n"
          ]
        }
      ]
    },
    {
      "cell_type": "markdown",
      "metadata": {
        "id": "daf2NrRkBaAU"
      },
      "source": [
        "We can see from the `help()` output that greetings defines two submodules `grumpy` and nice. Let's use `help()` to find out more about those.\n",
        "\n",
        "We can see from the cells below that they each define a `say_hello` function with the same function signature."
      ]
    },
    {
      "cell_type": "code",
      "metadata": {
        "colab": {
          "base_uri": "https://localhost:8080/"
        },
        "id": "oKvq3bmzBxTs",
        "outputId": "afd9245c-4a5b-44a1-ad9d-9601c419a8ed"
      },
      "source": [
        "help(greetings.grumpy)"
      ],
      "execution_count": null,
      "outputs": [
        {
          "output_type": "stream",
          "name": "stdout",
          "text": [
            "Help on module greetings.grumpy in greetings:\n",
            "\n",
            "NAME\n",
            "    greetings.grumpy\n",
            "\n",
            "FUNCTIONS\n",
            "    say_hello(to='world')\n",
            "\n",
            "FILE\n",
            "    (built-in)\n",
            "\n",
            "\n"
          ]
        }
      ]
    },
    {
      "cell_type": "code",
      "metadata": {
        "colab": {
          "base_uri": "https://localhost:8080/"
        },
        "id": "UrMZh1JeBxF6",
        "outputId": "45f70dbd-7f6f-40e6-c17d-f8226300a061"
      },
      "source": [
        "help(greetings.nice)"
      ],
      "execution_count": null,
      "outputs": [
        {
          "output_type": "stream",
          "name": "stdout",
          "text": [
            "Help on module greetings.nice in greetings:\n",
            "\n",
            "NAME\n",
            "    greetings.nice\n",
            "\n",
            "FUNCTIONS\n",
            "    say_hello(to='world')\n",
            "\n",
            "FILE\n",
            "    (built-in)\n",
            "\n",
            "\n"
          ]
        }
      ]
    },
    {
      "cell_type": "markdown",
      "metadata": {
        "id": "YgSeGdaWCFPp"
      },
      "source": [
        "## Running the code\n",
        "\n",
        "Now that we know there are two `say_hello` functions, let's run them."
      ]
    },
    {
      "cell_type": "code",
      "metadata": {
        "id": "VxfPp3Fr9Iyv"
      },
      "source": [
        "greetings.nice.say_hello(\"Jake\")"
      ],
      "execution_count": null,
      "outputs": []
    },
    {
      "cell_type": "code",
      "metadata": {
        "colab": {
          "base_uri": "https://localhost:8080/",
          "height": 36
        },
        "id": "z5-GQIY49nxy",
        "outputId": "6e3bdc16-6f7c-4d56-a23c-6f05917d9d05"
      },
      "source": [
        "greetings.grumpy.say_hello(\"Jake\")"
      ],
      "execution_count": null,
      "outputs": [
        {
          "output_type": "execute_result",
          "data": {
            "text/plain": [
              "'Oh, uhh, hi Jake...'"
            ],
            "application/vnd.google.colaboratory.intrinsic+json": {
              "type": "string"
            }
          },
          "metadata": {},
          "execution_count": 11
        }
      ]
    },
    {
      "cell_type": "markdown",
      "metadata": {
        "id": "S8FfwnaECVsK"
      },
      "source": [
        "## Examining greetings.ipynb\n",
        "\n",
        "In this section, we take a look at some of the special syntax that enabled [greetings.ipynb](https://github.com/margo-notebooks/margo-loader-py/blob/main/test_notebooks/greetings.ipynb) to be imported the way it was in this notebook.\n",
        "\n",
        "### submodule assignment\n",
        "\n",
        "The greetings notebook uses the Margo Loader `submodule` assignment to create virtual submodules within a the notebook's top-level module. This allows the notebook author to organize code cells. In this case it was handy to make two submodules that behaved the same but had different attitudes.\n",
        "\n",
        "You'll see if you open up greetings.ipynb that it uses syntax like this to define a function that should reside in the `grumpy` submodule:\n",
        "\n",
        "```python\n",
        "# :: submodule: \"grumpy\" ::\n",
        "def say_hello(to=\"world\"):\n",
        "    return f\"Oh, uhh, hi {to}...\"\n",
        "```\n",
        "\n",
        "### ignore-cell directive\n",
        "\n",
        "You'll also see in greetings.ipynb that some cells begin with `# :: ignore-cell ::`. These cells are used to demonstrate usage of the `say_hello()` function, and we don't want to allow those cells to be imported when the notebook is treated as a module."
      ]
    }
  ]
}