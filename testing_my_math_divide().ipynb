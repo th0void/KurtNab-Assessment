{
  "nbformat": 4,
  "nbformat_minor": 0,
  "metadata": {
    "colab": {
      "name": "testing_my_math.divide().ipynb",
      "provenance": [],
      "include_colab_link": true
    },
    "kernelspec": {
      "name": "python3",
      "display_name": "Python 3"
    },
    "language_info": {
      "name": "python"
    }
  },
  "cells": [
    {
      "cell_type": "markdown",
      "metadata": {
        "id": "view-in-github",
        "colab_type": "text"
      },
      "source": [
        "<a href=\"https://colab.research.google.com/github/th0void/KurtNab-Assessment/blob/main/testing_my_math_divide().ipynb\" target=\"_parent\"><img src=\"https://colab.research.google.com/assets/colab-badge.svg\" alt=\"Open In Colab\"/></a>"
      ]
    },
    {
      "cell_type": "markdown",
      "source": [
        "## Testing  my_math.divide()\n",
        "\n",
        "What is your preferred testing strategy? Do you like using the assert statement or prefer doctest?  \n",
        "\n",
        "Using your preferred testing strategy, develop a test table and test the following funciton.  Where required update the function so all test behave as expected.\n",
        "\n",
        "\n",
        "## Function to test"
      ],
      "metadata": {
        "id": "LIfoDVzKX7uK"
      }
    },
    {
      "cell_type": "code",
      "source": [
        "def divide(x, y):\n",
        "    '''Divide first by second number'''\n",
        "    return x / y"
      ],
      "metadata": {
        "id": "YH9gDoOYvKwg"
      },
      "execution_count": null,
      "outputs": []
    },
    {
      "cell_type": "markdown",
      "source": [
        "## Test Table\n",
        "\n",
        "List you test cases here."
      ],
      "metadata": {
        "id": "JYSZ-53nLF6n"
      }
    },
    {
      "cell_type": "markdown",
      "source": [
        "Text Cases below in numbered order*"
      ],
      "metadata": {
        "id": "c4sDG99IpT09"
      }
    },
    {
      "cell_type": "markdown",
      "source": [
        "Description\n",
        "1.Divide two positive numbers\n",
        "2.Divide by zero\n",
        "3.Divide by negative number\n",
        "4.Divide zero by a number\n",
        "5.Divide a negative number by a positive number\n",
        "6.Divide a positive number by a negative number\n",
        "7.Divide zero by zero\n",
        "8.Divide a large number by a small number"
      ],
      "metadata": {
        "id": "-SUHgJLknn5r"
      }
    },
    {
      "cell_type": "markdown",
      "source": [
        "Expected Result\n",
        "1.Result equals to division of x by y\n",
        "2.Error:Division by zero\n",
        "3.Result equals to division of x by y\n",
        "4.Result equals to 0\n",
        "5.Result equals to division of x by y\n",
        "6.Result equals to division of x by y\n",
        "7.Error Divide by zero\n",
        "8.Result is approximately equal to x/y"
      ],
      "metadata": {
        "id": "Pi3ZGSt2opkm"
      }
    },
    {
      "cell_type": "markdown",
      "source": [],
      "metadata": {
        "id": "YLZ71TnMm-Lj"
      }
    },
    {
      "cell_type": "code",
      "source": [
        "def divide(x, y):\n",
        "    '''\n",
        "    Divide first by second number\n",
        "\n",
        "    >>> divide(10, 2)\n",
        "    5.0\n",
        "    >>> divide(10, 0)\n",
        "    Traceback (most recent call last):\n",
        "        ...\n",
        "    ZeroDivisionError: division by zero\n",
        "    >>> divide(10, -2)\n",
        "    -5.0\n",
        "    >>> divide(0, 10)\n",
        "    0.0\n",
        "    >>> divide(-10, 2)\n",
        "    -5.0\n",
        "    >>> divide(10, -5)\n",
        "    -2.0\n",
        "    >>> divide(0, 0)\n",
        "    Traceback (most recent call last):\n",
        "        ...\n",
        "    ZeroDivisionError: division by zero\n",
        "    >>> divide(1000000000, 0.000001)\n",
        "    1000000000000000000.0\n",
        "    '''\n",
        "    return x / y\n",
        "\n",
        "# Run doctests\n",
        "if __name__ == \"__main__\":\n",
        "    import doctest\n",
        "    doctest.testmod(verbose=True)\n"
      ],
      "metadata": {
        "id": "psfzOZjgoaaZ",
        "outputId": "d0e0c610-885b-4d40-82d5-2b281bf1bd36",
        "colab": {
          "base_uri": "https://localhost:8080/"
        }
      },
      "execution_count": 7,
      "outputs": [
        {
          "output_type": "stream",
          "name": "stdout",
          "text": [
            "Trying:\n",
            "    divide(10, 2)\n",
            "Expecting:\n",
            "    5.0\n",
            "ok\n",
            "Trying:\n",
            "    divide(10, 0)\n",
            "Expecting:\n",
            "    Traceback (most recent call last):\n",
            "        ...\n",
            "    ZeroDivisionError: division by zero\n",
            "ok\n",
            "Trying:\n",
            "    divide(10, -2)\n",
            "Expecting:\n",
            "    -5.0\n",
            "ok\n",
            "Trying:\n",
            "    divide(0, 10)\n",
            "Expecting:\n",
            "    0.0\n",
            "ok\n",
            "Trying:\n",
            "    divide(-10, 2)\n",
            "Expecting:\n",
            "    -5.0\n",
            "ok\n",
            "Trying:\n",
            "    divide(10, -5)\n",
            "Expecting:\n",
            "    -2.0\n",
            "ok\n",
            "Trying:\n",
            "    divide(0, 0)\n",
            "Expecting:\n",
            "    Traceback (most recent call last):\n",
            "        ...\n",
            "    ZeroDivisionError: division by zero\n",
            "ok\n",
            "Trying:\n",
            "    divide(1000000000, 0.000001)\n",
            "Expecting:\n",
            "    1000000000000000000.0\n",
            "**********************************************************************\n",
            "File \"__main__\", line 23, in __main__.divide\n",
            "Failed example:\n",
            "    divide(1000000000, 0.000001)\n",
            "Expected:\n",
            "    1000000000000000000.0\n",
            "Got:\n",
            "    1000000000000000.0\n",
            "1 items had no tests:\n",
            "    __main__\n",
            "**********************************************************************\n",
            "1 items had failures:\n",
            "   1 of   8 in __main__.divide\n",
            "8 tests in 2 items.\n",
            "7 passed and 1 failed.\n",
            "***Test Failed*** 1 failures.\n"
          ]
        }
      ]
    }
  ]
}