{
  "nbformat": 4,
  "nbformat_minor": 0,
  "metadata": {
    "colab": {
      "provenance": [],
      "authorship_tag": "ABX9TyNTmyU8S/RQqG60UdkjYtJq",
      "include_colab_link": true
    },
    "kernelspec": {
      "name": "python3",
      "display_name": "Python 3"
    },
    "language_info": {
      "name": "python"
    }
  },
  "cells": [
    {
      "cell_type": "markdown",
      "metadata": {
        "id": "view-in-github",
        "colab_type": "text"
      },
      "source": [
        "<a href=\"https://colab.research.google.com/github/th0void/KurtNab-Assessment/blob/main/dmopc15c7pc2.ipynb\" target=\"_parent\"><img src=\"https://colab.research.google.com/assets/colab-badge.svg\" alt=\"Open In Colab\"/></a>"
      ]
    },
    {
      "cell_type": "code",
      "execution_count": null,
      "metadata": {
        "id": "4NLV9aIZ0yHg"
      },
      "outputs": [],
      "source": [
        "#To read the input text\n",
        "text = input()\n",
        "#Split the text in to words\n",
        "words = text.split()\n",
        "#Count the number of words\n",
        "num_words = len(words)\n",
        "#Output the results\n",
        "print(num_words)"
      ]
    },
    {
      "cell_type": "markdown",
      "source": [
        "DMOJ solution*"
      ],
      "metadata": {
        "id": "zAkCrpVU01Rc"
      }
    }
  ]
}